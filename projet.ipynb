{
 "cells": [
  {
   "cell_type": "code",
   "execution_count": 4,
   "metadata": {},
   "outputs": [],
   "source": [
    "import pandas as pd"
   ]
  },
  {
   "cell_type": "code",
   "execution_count": 5,
   "metadata": {},
   "outputs": [],
   "source": [
    "URL=\"https://www.data.gouv.fr/fr/datasets/r/7a1b0526-b35b-4885-9d31-bd2fdf15e4cb\"\n",
    "data=pd.read_csv(URL,\n",
    "                    sep=\";\",\n",
    "                    low_memory=False,\n",
    "                    parse_dates=[\"journey_start_date\",\"journey_start_datetime\",\"journey_end_datetime\",\"journey_end_date\"]\n",
    ")"
   ]
  },
  {
   "cell_type": "markdown",
   "metadata": {},
   "source": [
    "1. Type de données. \n",
    "\n",
    "L'affichage du type de données permet dans un premier temps d'avoir en un coup d'oeil le type de données que nous avons. Le type \"object\" se comporte la plupart du temps comme un type string. Mais il peut s'agir d'un mélange de str et int parfois, ou un mélange de date et str. \n",
    "\n",
    "Spécifier à l'ouverture le type de données est possible et il vaut mieux spécifier un type str dans le doute."
   ]
  },
  {
   "cell_type": "code",
   "execution_count": 17,
   "metadata": {},
   "outputs": [
    {
     "data": {
      "text/plain": [
       "journey_id                                      int64\n",
       "trip_id                                        object\n",
       "journey_start_datetime      datetime64[ns, UTC+02:00]\n",
       "journey_start_date                     datetime64[ns]\n",
       "journey_start_time                             object\n",
       "journey_start_lon                             float64\n",
       "journey_start_lat                             float64\n",
       "journey_start_insee                            object\n",
       "journey_start_department                       object\n",
       "journey_start_town                             object\n",
       "journey_start_towngroup                        object\n",
       "journey_start_country                          object\n",
       "journey_end_datetime        datetime64[ns, UTC+02:00]\n",
       "journey_end_date                       datetime64[ns]\n",
       "journey_end_time                               object\n",
       "journey_end_lon                               float64\n",
       "journey_end_lat                               float64\n",
       "journey_end_insee                              object\n",
       "journey_end_department                         object\n",
       "journey_end_town                               object\n",
       "journey_end_towngroup                          object\n",
       "journey_end_country                            object\n",
       "passenger_seats                                 int64\n",
       "operator_class                                 object\n",
       "journey_distance                                int64\n",
       "journey_duration                                int64\n",
       "has_incentive                                  object\n",
       "Name: Type de données, dtype: object"
      ]
     },
     "execution_count": 17,
     "metadata": {},
     "output_type": "execute_result"
    }
   ],
   "source": [
    "pd.Series(data.dtypes, index=data.columns, name='Type de données')"
   ]
  },
  {
   "cell_type": "markdown",
   "metadata": {},
   "source": [
    "2. Valeurs minimales et maximales\n",
    "\n",
    "Pour les valeurs qui semblent ordonnées (int, float, date) il est intéressant d'afficher les minimums et maximums. Cette action permet de repérer les valeurs abérrantes et les éventuelles erreurs. On tatonne légèrement pour la liste, par exemple quand je laissais le journey_start_department, une erreur apparaissait car cette colonne contient un mélange d'objet int et str."
   ]
  },
  {
   "cell_type": "code",
   "execution_count": 18,
   "metadata": {},
   "outputs": [
    {
     "data": {
      "text/html": [
       "<div>\n",
       "<style scoped>\n",
       "    .dataframe tbody tr th:only-of-type {\n",
       "        vertical-align: middle;\n",
       "    }\n",
       "\n",
       "    .dataframe tbody tr th {\n",
       "        vertical-align: top;\n",
       "    }\n",
       "\n",
       "    .dataframe thead th {\n",
       "        text-align: right;\n",
       "    }\n",
       "</style>\n",
       "<table border=\"1\" class=\"dataframe\">\n",
       "  <thead>\n",
       "    <tr style=\"text-align: right;\">\n",
       "      <th></th>\n",
       "      <th>Attribut</th>\n",
       "      <th>Valeur min</th>\n",
       "      <th>Valeur max</th>\n",
       "    </tr>\n",
       "  </thead>\n",
       "  <tbody>\n",
       "    <tr>\n",
       "      <th>0</th>\n",
       "      <td>journey_start_datetime</td>\n",
       "      <td>2024-06-01 00:00:00+02:00</td>\n",
       "      <td>2024-06-30 23:50:00+02:00</td>\n",
       "    </tr>\n",
       "    <tr>\n",
       "      <th>1</th>\n",
       "      <td>journey_start_date</td>\n",
       "      <td>2024-06-01 00:00:00</td>\n",
       "      <td>2024-06-30 00:00:00</td>\n",
       "    </tr>\n",
       "    <tr>\n",
       "      <th>2</th>\n",
       "      <td>journey_start_time</td>\n",
       "      <td>00:00:00</td>\n",
       "      <td>23:50:00</td>\n",
       "    </tr>\n",
       "    <tr>\n",
       "      <th>3</th>\n",
       "      <td>journey_start_lon</td>\n",
       "      <td>-61.767</td>\n",
       "      <td>55.829</td>\n",
       "    </tr>\n",
       "    <tr>\n",
       "      <th>4</th>\n",
       "      <td>journey_start_lat</td>\n",
       "      <td>-21.387</td>\n",
       "      <td>54.18</td>\n",
       "    </tr>\n",
       "    <tr>\n",
       "      <th>5</th>\n",
       "      <td>journey_start_insee</td>\n",
       "      <td>01004</td>\n",
       "      <td>99140</td>\n",
       "    </tr>\n",
       "    <tr>\n",
       "      <th>6</th>\n",
       "      <td>journey_end_datetime</td>\n",
       "      <td>2024-06-01 00:00:00+02:00</td>\n",
       "      <td>2024-07-01 01:00:00+02:00</td>\n",
       "    </tr>\n",
       "    <tr>\n",
       "      <th>7</th>\n",
       "      <td>journey_end_date</td>\n",
       "      <td>2024-06-01 00:00:00</td>\n",
       "      <td>2024-07-01 00:00:00</td>\n",
       "    </tr>\n",
       "    <tr>\n",
       "      <th>8</th>\n",
       "      <td>journey_end_time</td>\n",
       "      <td>00:00:00</td>\n",
       "      <td>23:50:00</td>\n",
       "    </tr>\n",
       "    <tr>\n",
       "      <th>9</th>\n",
       "      <td>journey_end_lon</td>\n",
       "      <td>-61.782</td>\n",
       "      <td>55.827</td>\n",
       "    </tr>\n",
       "    <tr>\n",
       "      <th>10</th>\n",
       "      <td>journey_end_lat</td>\n",
       "      <td>-21.386</td>\n",
       "      <td>54.4</td>\n",
       "    </tr>\n",
       "    <tr>\n",
       "      <th>11</th>\n",
       "      <td>journey_end_insee</td>\n",
       "      <td>01004</td>\n",
       "      <td>99140</td>\n",
       "    </tr>\n",
       "    <tr>\n",
       "      <th>12</th>\n",
       "      <td>journey_distance</td>\n",
       "      <td>95</td>\n",
       "      <td>921215</td>\n",
       "    </tr>\n",
       "    <tr>\n",
       "      <th>13</th>\n",
       "      <td>journey_duration</td>\n",
       "      <td>0</td>\n",
       "      <td>1436</td>\n",
       "    </tr>\n",
       "  </tbody>\n",
       "</table>\n",
       "</div>"
      ],
      "text/plain": [
       "                  Attribut                 Valeur min  \\\n",
       "0   journey_start_datetime  2024-06-01 00:00:00+02:00   \n",
       "1       journey_start_date        2024-06-01 00:00:00   \n",
       "2       journey_start_time                   00:00:00   \n",
       "3        journey_start_lon                    -61.767   \n",
       "4        journey_start_lat                    -21.387   \n",
       "5      journey_start_insee                      01004   \n",
       "6     journey_end_datetime  2024-06-01 00:00:00+02:00   \n",
       "7         journey_end_date        2024-06-01 00:00:00   \n",
       "8         journey_end_time                   00:00:00   \n",
       "9          journey_end_lon                    -61.782   \n",
       "10         journey_end_lat                    -21.386   \n",
       "11       journey_end_insee                      01004   \n",
       "12        journey_distance                         95   \n",
       "13        journey_duration                          0   \n",
       "\n",
       "                   Valeur max  \n",
       "0   2024-06-30 23:50:00+02:00  \n",
       "1         2024-06-30 00:00:00  \n",
       "2                    23:50:00  \n",
       "3                      55.829  \n",
       "4                       54.18  \n",
       "5                       99140  \n",
       "6   2024-07-01 01:00:00+02:00  \n",
       "7         2024-07-01 00:00:00  \n",
       "8                    23:50:00  \n",
       "9                      55.827  \n",
       "10                       54.4  \n",
       "11                      99140  \n",
       "12                     921215  \n",
       "13                       1436  "
      ]
     },
     "execution_count": 18,
     "metadata": {},
     "output_type": "execute_result"
    }
   ],
   "source": [
    "list_=[]\n",
    "for i in ['journey_start_datetime','journey_start_date', 'journey_start_time', 'journey_start_lon',\n",
    "       'journey_start_lat', 'journey_start_insee',\n",
    "        'journey_end_datetime', 'journey_end_date',\n",
    "       'journey_end_time', 'journey_end_lon', 'journey_end_lat',\n",
    "       'journey_end_insee','journey_distance', 'journey_duration']:\n",
    "\n",
    "    list_.append([i, data[i].min(), data[i].max()])\n",
    "\n",
    "pd.DataFrame(list_, columns=[\"Attribut\",\"Valeur min\", \"Valeur max\"])"
   ]
  },
  {
   "cell_type": "markdown",
   "metadata": {},
   "source": [
    "Ici, les latitudes et longitudes semblent cohérentes (si l'on prend en compte les collectivités d'outre-mer). Mais pour pleinement vérifier il faudrait avoir le contour géographique de la France métropolitaine et de ses COM et vérifier si les points appartiennent aux surfaces. \n",
    "\n",
    "\n",
    "RAS sur les dates. Néanmoins, les dates sont cruciales pour le calcul de l'indicateur, il faudra donc être vigilant sur ces données et prévoir des étapes de nettoyages pour parer d'éventuelles erreurs. \n",
    "\n",
    "\n",
    "Les codes INSEE sont correctes mais les numéros commencant par 99 sont des pays étrangers, il faudra s'assurer qu'il n'y ait pas de voyages purement effectués à l'étranger. \n",
    "\n",
    "\n",
    "Pour la distance, il y a des valeurs aberrantes : 95 m miminum. La valeur max reste cohérente (La France fait 1000km selon les axes Sud-Nord et Ouest-Est).\n",
    "Idem pour la durée du voyage : valeur minimale aberrante (0 minutes), valeur maximale plutôt cohérente ()\n"
   ]
  },
  {
   "cell_type": "code",
   "execution_count": 19,
   "metadata": {},
   "outputs": [
    {
     "name": "stdout",
     "output_type": "stream",
     "text": [
      "Médiane: 21.0 min\n",
      "Moyenne 21.0 min\n",
      "Intervalle quantile 2,5%-97,5% 4.0 56.0 min\n"
     ]
    },
    {
     "data": {
      "image/png": "[encoded data removed]",
      "text/plain": [
       "<Figure size 640x480 with 1 Axes>"
      ]
     },
     "metadata": {},
     "output_type": "display_data"
    }
   ],
   "source": [
    "data[\"journey_duration\"].plot(kind='hist', bins=1000)\n",
    "print(\"Médiane:\", data[\"journey_duration\"].median(), \"min\")\n",
    "print(\"Moyenne\", data[\"journey_duration\"].median(), \"min\")\n",
    "print(\"Intervalle quantile 2,5%-97,5%\", data[\"journey_duration\"].quantile(q=0.025), data[\"journey_duration\"].quantile(q=0.975), \"min\")"
   ]
  },
  {
   "cell_type": "code",
   "execution_count": 20,
   "metadata": {},
   "outputs": [
    {
     "name": "stdout",
     "output_type": "stream",
     "text": [
      "Médiane: 18619.0 mètres\n",
      "Moyenne 18619.0 mètres\n",
      "Intervalle quantile 2,5%-97,5% 2196.0 64250.0 mètres\n"
     ]
    },
    {
     "data": {
      "image/png": "[encoded data removed]",
      "text/plain": [
       "<Figure size 640x480 with 1 Axes>"
      ]
     },
     "metadata": {},
     "output_type": "display_data"
    }
   ],
   "source": [
    "data[\"journey_distance\"].plot(kind='hist', bins=1000)\n",
    "print(\"Médiane:\", data[\"journey_distance\"].median(), \"mètres\")\n",
    "print(\"Moyenne\", data[\"journey_distance\"].median(), \"mètres\")\n",
    "print(\"Intervalle quantile 2,5%-97,5%\", data[\"journey_distance\"].quantile(q=0.025), data[\"journey_distance\"].quantile(q=0.975), \"mètres\")"
   ]
  },
  {
   "cell_type": "markdown",
   "metadata": {},
   "source": [
    "Que ce soit la distance des covoiturages ou leur durée, la distribution des valeurs restent correctes. Il y aurait peut-être des valeurs basses à éliminer. "
   ]
  },
  {
   "cell_type": "markdown",
   "metadata": {},
   "source": [
    "3. Nombre de classes pour les autres attributs"
   ]
  },
  {
   "cell_type": "code",
   "execution_count": 29,
   "metadata": {},
   "outputs": [
    {
     "name": "stdout",
     "output_type": "stream",
     "text": [
      "Il y a eu  973640 trajets de covoiturage\n"
     ]
    }
   ],
   "source": [
    "print(\"Il y a eu \",len(data),\"trajets de covoiturage\")"
   ]
  },
  {
   "cell_type": "code",
   "execution_count": 28,
   "metadata": {},
   "outputs": [
    {
     "data": {
      "text/html": [
       "<div>\n",
       "<style scoped>\n",
       "    .dataframe tbody tr th:only-of-type {\n",
       "        vertical-align: middle;\n",
       "    }\n",
       "\n",
       "    .dataframe tbody tr th {\n",
       "        vertical-align: top;\n",
       "    }\n",
       "\n",
       "    .dataframe thead th {\n",
       "        text-align: right;\n",
       "    }\n",
       "</style>\n",
       "<table border=\"1\" class=\"dataframe\">\n",
       "  <thead>\n",
       "    <tr style=\"text-align: right;\">\n",
       "      <th></th>\n",
       "      <th>Attribut</th>\n",
       "      <th>Nombre de classes</th>\n",
       "    </tr>\n",
       "  </thead>\n",
       "  <tbody>\n",
       "    <tr>\n",
       "      <th>0</th>\n",
       "      <td>journey_id</td>\n",
       "      <td>973640</td>\n",
       "    </tr>\n",
       "    <tr>\n",
       "      <th>1</th>\n",
       "      <td>trip_id</td>\n",
       "      <td>818604</td>\n",
       "    </tr>\n",
       "    <tr>\n",
       "      <th>2</th>\n",
       "      <td>journey_start_department</td>\n",
       "      <td>101</td>\n",
       "    </tr>\n",
       "    <tr>\n",
       "      <th>3</th>\n",
       "      <td>journey_start_town</td>\n",
       "      <td>8281</td>\n",
       "    </tr>\n",
       "    <tr>\n",
       "      <th>4</th>\n",
       "      <td>journey_start_towngroup</td>\n",
       "      <td>1107</td>\n",
       "    </tr>\n",
       "    <tr>\n",
       "      <th>5</th>\n",
       "      <td>journey_start_country</td>\n",
       "      <td>10</td>\n",
       "    </tr>\n",
       "    <tr>\n",
       "      <th>6</th>\n",
       "      <td>journey_end_department</td>\n",
       "      <td>101</td>\n",
       "    </tr>\n",
       "    <tr>\n",
       "      <th>7</th>\n",
       "      <td>journey_end_town</td>\n",
       "      <td>8029</td>\n",
       "    </tr>\n",
       "    <tr>\n",
       "      <th>8</th>\n",
       "      <td>journey_end_towngroup</td>\n",
       "      <td>1093</td>\n",
       "    </tr>\n",
       "    <tr>\n",
       "      <th>9</th>\n",
       "      <td>journey_end_country</td>\n",
       "      <td>11</td>\n",
       "    </tr>\n",
       "    <tr>\n",
       "      <th>10</th>\n",
       "      <td>operator_class</td>\n",
       "      <td>3</td>\n",
       "    </tr>\n",
       "    <tr>\n",
       "      <th>11</th>\n",
       "      <td>has_incentive</td>\n",
       "      <td>1</td>\n",
       "    </tr>\n",
       "  </tbody>\n",
       "</table>\n",
       "</div>"
      ],
      "text/plain": [
       "                    Attribut  Nombre de classes\n",
       "0                 journey_id             973640\n",
       "1                    trip_id             818604\n",
       "2   journey_start_department                101\n",
       "3         journey_start_town               8281\n",
       "4    journey_start_towngroup               1107\n",
       "5      journey_start_country                 10\n",
       "6     journey_end_department                101\n",
       "7           journey_end_town               8029\n",
       "8      journey_end_towngroup               1093\n",
       "9        journey_end_country                 11\n",
       "10            operator_class                  3\n",
       "11             has_incentive                  1"
      ]
     },
     "execution_count": 28,
     "metadata": {},
     "output_type": "execute_result"
    }
   ],
   "source": [
    "list_=[]\n",
    "for i in ['journey_id', 'trip_id','journey_start_department',\n",
    "        'journey_start_town', 'journey_start_towngroup', 'journey_start_country',\n",
    "        'journey_end_department', 'journey_end_town',\n",
    "        'journey_end_towngroup', 'journey_end_country',\n",
    "        'operator_class','has_incentive']:\n",
    "\n",
    "    list_.append([i,len(data[i].unique())])\n",
    "\n",
    "pd.DataFrame(list_, columns=[\"Attribut\",\"Nombre de classes\"])"
   ]
  },
  {
   "cell_type": "markdown",
   "metadata": {},
   "source": [
    "Le nombre de journey_id différent correspond au nombre de covoiturage : cela était attendu car il s'agit de la clé primaire du registre de covoiturage. \n",
    "\n",
    "101 Départements différents sont présents, ce qui correspond au nombre de Département. \n",
    "\n",
    "Il y a bien trois operator_class (classes de preuve)"
   ]
  },
  {
   "cell_type": "markdown",
   "metadata": {},
   "source": [
    "4. Tableau croisé des pays de départ et d'arrivée pour les covoiturages"
   ]
  },
  {
   "cell_type": "code",
   "execution_count": 22,
   "metadata": {},
   "outputs": [
    {
     "data": {
      "text/html": [
       "<div>\n",
       "<style scoped>\n",
       "    .dataframe tbody tr th:only-of-type {\n",
       "        vertical-align: middle;\n",
       "    }\n",
       "\n",
       "    .dataframe tbody tr th {\n",
       "        vertical-align: top;\n",
       "    }\n",
       "\n",
       "    .dataframe thead th {\n",
       "        text-align: right;\n",
       "    }\n",
       "</style>\n",
       "<table border=\"1\" class=\"dataframe\">\n",
       "  <thead>\n",
       "    <tr style=\"text-align: right;\">\n",
       "      <th>journey_end_country</th>\n",
       "      <th>ALLEMAGNE</th>\n",
       "      <th>ANDORRE</th>\n",
       "      <th>BELGIQUE</th>\n",
       "      <th>ESPAGNE</th>\n",
       "      <th>France</th>\n",
       "      <th>GRECE</th>\n",
       "      <th>ITALIE</th>\n",
       "      <th>LUXEMBOURG</th>\n",
       "      <th>MONACO</th>\n",
       "      <th>PORTUGAL</th>\n",
       "      <th>SUISSE</th>\n",
       "    </tr>\n",
       "    <tr>\n",
       "      <th>journey_start_country</th>\n",
       "      <th></th>\n",
       "      <th></th>\n",
       "      <th></th>\n",
       "      <th></th>\n",
       "      <th></th>\n",
       "      <th></th>\n",
       "      <th></th>\n",
       "      <th></th>\n",
       "      <th></th>\n",
       "      <th></th>\n",
       "      <th></th>\n",
       "    </tr>\n",
       "  </thead>\n",
       "  <tbody>\n",
       "    <tr>\n",
       "      <th>ALLEMAGNE</th>\n",
       "      <td>8.0</td>\n",
       "      <td>0.0</td>\n",
       "      <td>0.0</td>\n",
       "      <td>0.0</td>\n",
       "      <td>140.0</td>\n",
       "      <td>0.0</td>\n",
       "      <td>0.0</td>\n",
       "      <td>1.0</td>\n",
       "      <td>0.0</td>\n",
       "      <td>0.0</td>\n",
       "      <td>0.0</td>\n",
       "    </tr>\n",
       "    <tr>\n",
       "      <th>BELGIQUE</th>\n",
       "      <td>0.0</td>\n",
       "      <td>0.0</td>\n",
       "      <td>79.0</td>\n",
       "      <td>0.0</td>\n",
       "      <td>285.0</td>\n",
       "      <td>0.0</td>\n",
       "      <td>0.0</td>\n",
       "      <td>486.0</td>\n",
       "      <td>0.0</td>\n",
       "      <td>0.0</td>\n",
       "      <td>0.0</td>\n",
       "    </tr>\n",
       "    <tr>\n",
       "      <th>ESPAGNE</th>\n",
       "      <td>0.0</td>\n",
       "      <td>0.0</td>\n",
       "      <td>0.0</td>\n",
       "      <td>3430.0</td>\n",
       "      <td>38.0</td>\n",
       "      <td>0.0</td>\n",
       "      <td>0.0</td>\n",
       "      <td>0.0</td>\n",
       "      <td>0.0</td>\n",
       "      <td>0.0</td>\n",
       "      <td>0.0</td>\n",
       "    </tr>\n",
       "    <tr>\n",
       "      <th>France</th>\n",
       "      <td>141.0</td>\n",
       "      <td>1.0</td>\n",
       "      <td>263.0</td>\n",
       "      <td>45.0</td>\n",
       "      <td>926549.0</td>\n",
       "      <td>0.0</td>\n",
       "      <td>154.0</td>\n",
       "      <td>933.0</td>\n",
       "      <td>4831.0</td>\n",
       "      <td>0.0</td>\n",
       "      <td>13506.0</td>\n",
       "    </tr>\n",
       "    <tr>\n",
       "      <th>GRECE</th>\n",
       "      <td>0.0</td>\n",
       "      <td>0.0</td>\n",
       "      <td>0.0</td>\n",
       "      <td>0.0</td>\n",
       "      <td>0.0</td>\n",
       "      <td>13.0</td>\n",
       "      <td>0.0</td>\n",
       "      <td>0.0</td>\n",
       "      <td>0.0</td>\n",
       "      <td>0.0</td>\n",
       "      <td>0.0</td>\n",
       "    </tr>\n",
       "    <tr>\n",
       "      <th>ITALIE</th>\n",
       "      <td>0.0</td>\n",
       "      <td>0.0</td>\n",
       "      <td>0.0</td>\n",
       "      <td>0.0</td>\n",
       "      <td>160.0</td>\n",
       "      <td>0.0</td>\n",
       "      <td>25.0</td>\n",
       "      <td>0.0</td>\n",
       "      <td>2219.0</td>\n",
       "      <td>0.0</td>\n",
       "      <td>0.0</td>\n",
       "    </tr>\n",
       "    <tr>\n",
       "      <th>LUXEMBOURG</th>\n",
       "      <td>1.0</td>\n",
       "      <td>0.0</td>\n",
       "      <td>502.0</td>\n",
       "      <td>0.0</td>\n",
       "      <td>884.0</td>\n",
       "      <td>0.0</td>\n",
       "      <td>0.0</td>\n",
       "      <td>458.0</td>\n",
       "      <td>0.0</td>\n",
       "      <td>0.0</td>\n",
       "      <td>0.0</td>\n",
       "    </tr>\n",
       "    <tr>\n",
       "      <th>MONACO</th>\n",
       "      <td>0.0</td>\n",
       "      <td>0.0</td>\n",
       "      <td>0.0</td>\n",
       "      <td>0.0</td>\n",
       "      <td>4150.0</td>\n",
       "      <td>0.0</td>\n",
       "      <td>2121.0</td>\n",
       "      <td>0.0</td>\n",
       "      <td>4.0</td>\n",
       "      <td>0.0</td>\n",
       "      <td>0.0</td>\n",
       "    </tr>\n",
       "    <tr>\n",
       "      <th>PORTUGAL</th>\n",
       "      <td>0.0</td>\n",
       "      <td>0.0</td>\n",
       "      <td>0.0</td>\n",
       "      <td>0.0</td>\n",
       "      <td>0.0</td>\n",
       "      <td>0.0</td>\n",
       "      <td>0.0</td>\n",
       "      <td>0.0</td>\n",
       "      <td>0.0</td>\n",
       "      <td>16.0</td>\n",
       "      <td>0.0</td>\n",
       "    </tr>\n",
       "    <tr>\n",
       "      <th>SUISSE</th>\n",
       "      <td>0.0</td>\n",
       "      <td>0.0</td>\n",
       "      <td>0.0</td>\n",
       "      <td>0.0</td>\n",
       "      <td>11945.0</td>\n",
       "      <td>0.0</td>\n",
       "      <td>0.0</td>\n",
       "      <td>0.0</td>\n",
       "      <td>0.0</td>\n",
       "      <td>0.0</td>\n",
       "      <td>252.0</td>\n",
       "    </tr>\n",
       "  </tbody>\n",
       "</table>\n",
       "</div>"
      ],
      "text/plain": [
       "journey_end_country    ALLEMAGNE  ANDORRE  BELGIQUE  ESPAGNE    France  GRECE  \\\n",
       "journey_start_country                                                           \n",
       "ALLEMAGNE                    8.0      0.0       0.0      0.0     140.0    0.0   \n",
       "BELGIQUE                     0.0      0.0      79.0      0.0     285.0    0.0   \n",
       "ESPAGNE                      0.0      0.0       0.0   3430.0      38.0    0.0   \n",
       "France                     141.0      1.0     263.0     45.0  926549.0    0.0   \n",
       "GRECE                        0.0      0.0       0.0      0.0       0.0   13.0   \n",
       "ITALIE                       0.0      0.0       0.0      0.0     160.0    0.0   \n",
       "LUXEMBOURG                   1.0      0.0     502.0      0.0     884.0    0.0   \n",
       "MONACO                       0.0      0.0       0.0      0.0    4150.0    0.0   \n",
       "PORTUGAL                     0.0      0.0       0.0      0.0       0.0    0.0   \n",
       "SUISSE                       0.0      0.0       0.0      0.0   11945.0    0.0   \n",
       "\n",
       "journey_end_country    ITALIE  LUXEMBOURG  MONACO  PORTUGAL   SUISSE  \n",
       "journey_start_country                                                 \n",
       "ALLEMAGNE                 0.0         1.0     0.0       0.0      0.0  \n",
       "BELGIQUE                  0.0       486.0     0.0       0.0      0.0  \n",
       "ESPAGNE                   0.0         0.0     0.0       0.0      0.0  \n",
       "France                  154.0       933.0  4831.0       0.0  13506.0  \n",
       "GRECE                     0.0         0.0     0.0       0.0      0.0  \n",
       "ITALIE                   25.0         0.0  2219.0       0.0      0.0  \n",
       "LUXEMBOURG                0.0       458.0     0.0       0.0      0.0  \n",
       "MONACO                 2121.0         0.0     4.0       0.0      0.0  \n",
       "PORTUGAL                  0.0         0.0     0.0      16.0      0.0  \n",
       "SUISSE                    0.0         0.0     0.0       0.0    252.0  "
      ]
     },
     "execution_count": 22,
     "metadata": {},
     "output_type": "execute_result"
    }
   ],
   "source": [
    "core=pd.pivot_table(data, values=\"journey_id\", \n",
    "                     index=\"journey_start_country\", columns=\"journey_end_country\",\n",
    "                     aggfunc=\"count\").fillna(0)\n",
    "core"
   ]
  },
  {
   "cell_type": "markdown",
   "metadata": {},
   "source": [
    "Comme pressenti, il y a des trajets qui ont été réalisés complètement en dehors de la France. On remarque au passage que les pays ont leur nom en majuscule mais pas la France. Un retraitement de la case, mais aussi des erreurs possibles sur le mot France parait opportun. "
   ]
  },
  {
   "cell_type": "code",
   "execution_count": 23,
   "metadata": {},
   "outputs": [
    {
     "name": "stdout",
     "output_type": "stream",
     "text": [
      "Il y a eu  27217  trajets de covoiturage totalement effectués en dehors de la France\n"
     ]
    }
   ],
   "source": [
    "print(\"Il y a eu \",\n",
    "      len(data[(data[\"journey_start_country\"]!=\"France\") & (data[\"journey_start_country\"]!=\"France\")]),\n",
    "      \" trajets de covoiturage totalement effectués en dehors de la France\")"
   ]
  },
  {
   "cell_type": "markdown",
   "metadata": {},
   "source": [
    "5. Certification des trajets"
   ]
  },
  {
   "cell_type": "code",
   "execution_count": 24,
   "metadata": {},
   "outputs": [
    {
     "data": {
      "text/plain": [
       "operator_class\n",
       "C    939268\n",
       "B     21718\n",
       "A     12654\n",
       "Name: count, dtype: int64"
      ]
     },
     "execution_count": 24,
     "metadata": {},
     "output_type": "execute_result"
    }
   ],
   "source": [
    "data[\"operator_class\"].value_counts()"
   ]
  },
  {
   "cell_type": "markdown",
   "metadata": {},
   "source": [
    "La très grande majorités des trajets sont certifiés Classe C, la plus haute classe de preuve. On peut donc raisonablement penser que tous les trajets ont réellement eu lieu."
   ]
  },
  {
   "cell_type": "markdown",
   "metadata": {},
   "source": [
    "6. Calcul de l'indicateur"
   ]
  },
  {
   "cell_type": "code",
   "execution_count": 25,
   "metadata": {},
   "outputs": [],
   "source": [
    "indicateur=data[[\"journey_start_date\",\"journey_id\"]].groupby(by=[\"journey_start_date\"]).count()/1000*25\n",
    "indicateur=indicateur.rename(columns={\"journey_id\":\"number of journeys estimated (thousand)\"})\n",
    "indicateur=indicateur.sort_index()"
   ]
  },
  {
   "cell_type": "code",
   "execution_count": 26,
   "metadata": {},
   "outputs": [
    {
     "data": {
      "text/plain": [
       "<Axes: xlabel='journey_start_date'>"
      ]
     },
     "execution_count": 26,
     "metadata": {},
     "output_type": "execute_result"
    },
    {
     "data": {
      "image/png": "[encoded data removed]",
      "text/plain": [
       "<Figure size 640x480 with 1 Axes>"
      ]
     },
     "metadata": {},
     "output_type": "display_data"
    }
   ],
   "source": [
    "indicateur.plot()"
   ]
  },
  {
   "cell_type": "markdown",
   "metadata": {},
   "source": [
    "Le calcul de l'indicateur et l'affichage du graph au cours du temps montre un effet de saisonnalité : les weekends il y a 2 à 3 fois moins de covoiturages. "
   ]
  }
 ],
 "metadata": {
  "kernelspec": {
   "display_name": "Python 3 (ipykernel)",
   "language": "python",
   "name": "python3"
  },
  "language_info": {
   "codemirror_mode": {
    "name": "ipython",
    "version": 3
   },
   "file_extension": ".py",
   "mimetype": "text/x-python",
   "name": "python",
   "nbconvert_exporter": "python",
   "pygments_lexer": "ipython3",
   "version": "3.10.5"
  }
 },
 "nbformat": 4,
 "nbformat_minor": 4
}
